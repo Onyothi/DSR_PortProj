{
 "cells": [
  {
   "cell_type": "code",
   "execution_count": 1,
   "metadata": {},
   "outputs": [
    {
     "ename": "ModuleNotFoundError",
     "evalue": "No module named 'darknet'",
     "output_type": "error",
     "traceback": [
      "\u001b[0;31m---------------------------------------------------------------------------\u001b[0m",
      "\u001b[0;31mModuleNotFoundError\u001b[0m                       Traceback (most recent call last)",
      "\u001b[0;32m<ipython-input-1-8dfc28565b00>\u001b[0m in \u001b[0;36m<module>\u001b[0;34m()\u001b[0m\n\u001b[1;32m      3\u001b[0m \u001b[0;32mimport\u001b[0m \u001b[0mos\u001b[0m\u001b[0;34m\u001b[0m\u001b[0m\n\u001b[1;32m      4\u001b[0m \u001b[0;32mimport\u001b[0m \u001b[0mcv2\u001b[0m\u001b[0;34m\u001b[0m\u001b[0m\n\u001b[0;32m----> 5\u001b[0;31m \u001b[0;32mimport\u001b[0m \u001b[0mdarknet\u001b[0m\u001b[0;34m\u001b[0m\u001b[0m\n\u001b[0m\u001b[1;32m      6\u001b[0m \u001b[0;32mimport\u001b[0m \u001b[0mjson\u001b[0m\u001b[0;34m\u001b[0m\u001b[0m\n\u001b[1;32m      7\u001b[0m \u001b[0;32mimport\u001b[0m \u001b[0mjoblib\u001b[0m\u001b[0;34m\u001b[0m\u001b[0m\n",
      "\u001b[0;31mModuleNotFoundError\u001b[0m: No module named 'darknet'"
     ]
    }
   ],
   "source": [
    "#!/usr/bin/env python3\n",
    "\n",
    "import os\n",
    "import cv2\n",
    "import darknet\n",
    "import json\n",
    "import joblib\n",
    "\n",
    "darknet.set_gpu(0)\n",
    "net = darknet.load_net(b\"cfg/yolov3.cfg\", b\"weights/yolov3.weights\", 0)\n",
    "meta = darknet.load_meta(b\"cfg/coco.data\")\n",
    "\n",
    "cwd = os.getcwd()\n",
    "print(cwd)\n",
    "#print(\"Running \", __file__, \" in \", cwd, \".\")\n",
    "\n",
    "prediction_data_path = \"predictions.txt\"\n",
    "\n",
    "root = cwd + \"/data/tdata/\""
   ]
  },
  {
   "cell_type": "code",
   "execution_count": 2,
   "metadata": {},
   "outputs": [
    {
     "name": "stdout",
     "output_type": "stream",
     "text": [
      "[]\n"
     ]
    }
   ],
   "source": [
    "import re\n",
    "files = os.listdir()\n",
    "pattern = \"(?P<file_name>(?P<base_name>[^_]*_(?P<datetime>(?P<date>\\d*)_(?P<time>\\d*)))\\.pkl$)\"\n",
    "reg = re.compile(pattern)\n",
    "\n",
    "\n",
    "matches = []\n",
    "\n",
    "for file in sorted(files):\n",
    "    match = reg.search(file)\n",
    "    \n",
    "    if match is not None:\n",
    "        matches.append(match)\n",
    "\n",
    "        \n",
    "pickled_images = []\n",
    "for match in matches:\n",
    "    pickled_images.append(match.groupdict()[\"base_name\"] + \".jpg\")\n",
    "    \n",
    "\n",
    "    \n",
    "print(pickled_images)"
   ]
  },
  {
   "cell_type": "code",
   "execution_count": 3,
   "metadata": {},
   "outputs": [
    {
     "ename": "FileNotFoundError",
     "evalue": "[Errno 2] No such file or directory: 'data/tdata'",
     "output_type": "error",
     "traceback": [
      "\u001b[0;31m---------------------------------------------------------------------------\u001b[0m",
      "\u001b[0;31mFileNotFoundError\u001b[0m                         Traceback (most recent call last)",
      "\u001b[0;32m<ipython-input-3-d6ccb1b5e121>\u001b[0m in \u001b[0;36m<module>\u001b[0;34m()\u001b[0m\n\u001b[0;32m----> 1\u001b[0;31m \u001b[0mdata_files\u001b[0m \u001b[0;34m=\u001b[0m \u001b[0mos\u001b[0m\u001b[0;34m.\u001b[0m\u001b[0mlistdir\u001b[0m\u001b[0;34m(\u001b[0m\u001b[0;34m\"data/tdata\"\u001b[0m\u001b[0;34m)\u001b[0m\u001b[0;34m\u001b[0m\u001b[0m\n\u001b[0m\u001b[1;32m      2\u001b[0m \u001b[0;34m\u001b[0m\u001b[0m\n\u001b[1;32m      3\u001b[0m \u001b[0mpattern_jpg\u001b[0m \u001b[0;34m=\u001b[0m \u001b[0;34m\"(?P<file_name>(?P<base_name>[^_]*_(?P<datetime>(?P<date>\\d*)_(?P<time>\\d*)))\\.jpg$)\"\u001b[0m\u001b[0;34m\u001b[0m\u001b[0m\n\u001b[1;32m      4\u001b[0m \u001b[0mreg_jpg\u001b[0m \u001b[0;34m=\u001b[0m \u001b[0mre\u001b[0m\u001b[0;34m.\u001b[0m\u001b[0mcompile\u001b[0m\u001b[0;34m(\u001b[0m\u001b[0mpattern_jpg\u001b[0m\u001b[0;34m)\u001b[0m\u001b[0;34m\u001b[0m\u001b[0m\n\u001b[1;32m      5\u001b[0m \u001b[0;34m\u001b[0m\u001b[0m\n",
      "\u001b[0;31mFileNotFoundError\u001b[0m: [Errno 2] No such file or directory: 'data/tdata'"
     ]
    }
   ],
   "source": [
    "data_files = os.listdir(\"data/tdata\")\n",
    "\n",
    "pattern_jpg = \"(?P<file_name>(?P<base_name>[^_]*_(?P<datetime>(?P<date>\\d*)_(?P<time>\\d*)))\\.jpg$)\"\n",
    "reg_jpg = re.compile(pattern_jpg)\n",
    "\n",
    "matches_jpg = []\n",
    "\n",
    "for data_file in data_files:\n",
    "    match_jpg = reg_jpg.search(data_file)\n",
    "\n",
    "    if match_jpg is not None:\n",
    "        matches_jpg.append(match_jpg)\n",
    "    \n",
    "all_images = []\n",
    "for match_jpg in matches_jpg:\n",
    "    all_images.append(match_jpg.groupdict()[\"file_name\"])\n",
    "    \n",
    "print(all_images)\n",
    "\n"
   ]
  },
  {
   "cell_type": "code",
   "execution_count": 4,
   "metadata": {},
   "outputs": [
    {
     "ename": "NameError",
     "evalue": "name 'all_images' is not defined",
     "output_type": "error",
     "traceback": [
      "\u001b[0;31m---------------------------------------------------------------------------\u001b[0m",
      "\u001b[0;31mNameError\u001b[0m                                 Traceback (most recent call last)",
      "\u001b[0;32m<ipython-input-4-ba734e13ff55>\u001b[0m in \u001b[0;36m<module>\u001b[0;34m()\u001b[0m\n\u001b[0;32m----> 1\u001b[0;31m \u001b[0munpickled_images\u001b[0m \u001b[0;34m=\u001b[0m \u001b[0msorted\u001b[0m\u001b[0;34m(\u001b[0m\u001b[0mset\u001b[0m\u001b[0;34m(\u001b[0m\u001b[0mall_images\u001b[0m\u001b[0;34m)\u001b[0m\u001b[0;34m-\u001b[0m\u001b[0mset\u001b[0m\u001b[0;34m(\u001b[0m\u001b[0mpickled_images\u001b[0m\u001b[0;34m)\u001b[0m\u001b[0;34m)\u001b[0m\u001b[0;34m\u001b[0m\u001b[0m\n\u001b[0m\u001b[1;32m      2\u001b[0m \u001b[0mprint\u001b[0m\u001b[0;34m(\u001b[0m\u001b[0munpickled_images\u001b[0m\u001b[0;34m)\u001b[0m\u001b[0;34m\u001b[0m\u001b[0m\n",
      "\u001b[0;31mNameError\u001b[0m: name 'all_images' is not defined"
     ]
    }
   ],
   "source": [
    "unpickled_images = sorted(set(all_images)-set(pickled_images))\n",
    "print(unpickled_images)"
   ]
  },
  {
   "cell_type": "code",
   "execution_count": 5,
   "metadata": {},
   "outputs": [
    {
     "ename": "NameError",
     "evalue": "name 'unpickled_images' is not defined",
     "output_type": "error",
     "traceback": [
      "\u001b[0;31m---------------------------------------------------------------------------\u001b[0m",
      "\u001b[0;31mNameError\u001b[0m                                 Traceback (most recent call last)",
      "\u001b[0;32m<ipython-input-5-894b5c1efa36>\u001b[0m in \u001b[0;36m<module>\u001b[0;34m()\u001b[0m\n\u001b[1;32m      1\u001b[0m \u001b[0mresult_list\u001b[0m \u001b[0;34m=\u001b[0m \u001b[0;34m[\u001b[0m\u001b[0;34m]\u001b[0m\u001b[0;34m\u001b[0m\u001b[0m\n\u001b[1;32m      2\u001b[0m \u001b[0;34m\u001b[0m\u001b[0m\n\u001b[0;32m----> 3\u001b[0;31m \u001b[0;32mfor\u001b[0m \u001b[0mfile\u001b[0m \u001b[0;32min\u001b[0m \u001b[0munpickled_images\u001b[0m\u001b[0;34m:\u001b[0m\u001b[0;34m\u001b[0m\u001b[0m\n\u001b[0m\u001b[1;32m      4\u001b[0m \u001b[0;34m\u001b[0m\u001b[0m\n\u001b[1;32m      5\u001b[0m     \u001b[0;31m# Basename of the image file without the extension\u001b[0m\u001b[0;34m\u001b[0m\u001b[0;34m\u001b[0m\u001b[0m\n",
      "\u001b[0;31mNameError\u001b[0m: name 'unpickled_images' is not defined"
     ]
    }
   ],
   "source": [
    "result_list = []\n",
    "\n",
    "for file in unpickled_images:\n",
    "\n",
    "    # Basename of the image file without the extension\n",
    "    basename = os.path.splitext(file)[0]\n",
    "\n",
    "    # Image file\n",
    "    imagefile = os.path.join(root, file)\n",
    "\n",
    "    # output text file -> trying to output results in json format\n",
    "    outfile = basename + \"_out.json\"\n",
    "\n",
    "    # output im age name -> darkflow outputs to a png file.\n",
    "    outimage = basename + \"_out.png\"\n",
    "\n",
    "    # Compose the command to be executed - revise later\n",
    "    # command = \"./darknet detect cfg/yolov3.cfg ./yolov3.weights \" + \\\n",
    "    #          imagefile + \" >> \" + prediction_data_path\n",
    "\n",
    "    # Make an external command - This is where all the problems begin.\n",
    "    #os.system(command)\n",
    "    print(imagefile)\n",
    "    r = darknet.detect(net, meta, imagefile.encode())\n",
    "    joblib.dump(r, basename + \".pkl\")\n",
    "    result_list.append(r)\n",
    "\n",
    "    \"\"\"\n",
    "    for i in len(r):\n",
    "        tup = r[i]\n",
    "        object_type = tup(0)\n",
    "        prob = tup(1)\n",
    "        coord = tup(2)\n",
    "    \"\"\"    \n",
    "\n",
    "\n",
    "    # Challenges performing segmentation. Not quite sure how to draw \\\n",
    "    # the bounding boxes on the images. Trying to used opencv for this.\n",
    "    \n",
    "    \"\"\"\n",
    "    img = cv2.imread(imagefile)\n",
    "    #for (cls_name, likelihood, (x, y, w, h)) in r:\n",
    "        # cv2.putText(\n",
    "        #     img,\n",
    "        #     cls_name,\n",
    "        #     (int(x + w/2), int(y + h/2)),\n",
    "        #     cv2.FONT_HERSHEY_SIMPLEX,\n",
    "        #     1,\n",
    "        #     (255, 255, 255)\n",
    "        # )\n",
    "        # cv2.rectangle(\n",
    "        #     img,\n",
    "        #     (int(x), int(y)),\n",
    "        #     (int(x + w), int(y + h)),\n",
    "        #     (255, 255, 255)\n",
    "        # )\n",
    "\n",
    "    # Trying to force terminal output in json format\n",
    " \n",
    "    with open(outfile, \"w+\") as f:\n",
    "        json.dump([\n",
    "           {\n",
    "                \"class\": cls_name.decode(),\n",
    "                \"likelihood\": likelihood\n",
    "            } for (cls_name, likelihood, _) in r\n",
    "        ], f)\n",
    " \n",
    "\n",
    "    # cv2.imwrite(outimage, img)\n",
    "    #cv2.imshow(imagefile, img)\n",
    "\n",
    "    #tmp_img_path = os.path.join(cwd, \"predictions.png\")\n",
    "    #out_img_path = os.path.join(cwd, \"predictions\", outimage)\n",
    "\n",
    "    #os.rename(tmp_img_path, out_img_path)\n",
    "\n",
    "\"\"\"\n",
    "\n"
   ]
  },
  {
   "cell_type": "code",
   "execution_count": 6,
   "metadata": {},
   "outputs": [
    {
     "name": "stdout",
     "output_type": "stream",
     "text": [
      "[]\n"
     ]
    }
   ],
   "source": [
    "print(result_list)\n",
    "#max(result_list, key=lambda x: x[1])\n",
    "# print(result_list[0:3])\n",
    "#print(result_list[3][14])"
   ]
  },
  {
   "cell_type": "code",
   "execution_count": null,
   "metadata": {},
   "outputs": [],
   "source": [
    "#Why are you not working?\n",
    "object_names = []\n",
    "#object_prob = []\n",
    "\n",
    "for object_list in result_list:\n",
    "    for obj in object_list:\n",
    "        if isinstance(obj,tuple):\n",
    "            if len(obj) == 3: #Validate that the object has three variables\n",
    "                name = obj[0]\n",
    "                #prob = obj[1]\n",
    "                \n",
    "                if not (name in object_names): \n",
    "                    object_names.append(name)\n",
    "               # if not (prob in object_prob):\n",
    "               #     object_prob.append(prob)\n",
    "                    \n",
    "#There seem to be a corrupt file        \n",
    "print(object_names) "
   ]
  },
  {
   "cell_type": "code",
   "execution_count": null,
   "metadata": {},
   "outputs": [],
   "source": [
    "print(result_list)"
   ]
  },
  {
   "cell_type": "code",
   "execution_count": null,
   "metadata": {},
   "outputs": [],
   "source": [
    "print(\"These are the detected object Names:\\n \",object_names)\n",
    "\n",
    "number_dict_total = {}\n",
    "for name in object_names:\n",
    "    number_dict_total[name] = 0\n",
    "\n",
    "    \n",
    "number_dicts_images = []\n",
    "\n",
    "# result_list: list of length 4; each element is a list of detected_objects\n",
    "\n",
    "counter = 0\n",
    "image_counter = 0\n",
    "\n",
    "for i, detected_object_list in enumerate(result_list):\n",
    "        \n",
    "    number_dict_image = {}\n",
    "    for name in object_names:\n",
    "        number_dict_image[name] = 0\n",
    " \n",
    "    for tup in detected_object_list:\n",
    "        if isinstance(tup,tuple):\n",
    "            if len(tup) == 3:\n",
    "                name = tup[0]\n",
    "                if name in object_names:\n",
    "                    number_dict_image[name] +=1\n",
    "                    number_dict_total[name] +=1\n",
    "            \n",
    "      \n",
    "    number_dicts_images.append(number_dict_image)\n",
    "    \n",
    "print(\"\\nThese are the totals of the detected objects:\")\n",
    "number_dict_total"
   ]
  },
  {
   "cell_type": "code",
   "execution_count": null,
   "metadata": {},
   "outputs": [],
   "source": []
  },
  {
   "cell_type": "code",
   "execution_count": null,
   "metadata": {},
   "outputs": [],
   "source": [
    "#Print the total number of objects detected per image\n",
    "\n",
    "print(\"t\",number_dict_total)\n",
    "print(\"---------------------------------------------------------------------\")\n",
    "for i in range(len(number_dicts_images)):\n",
    "    print(i, number_dicts_images[i])"
   ]
  },
  {
   "cell_type": "code",
   "execution_count": null,
   "metadata": {},
   "outputs": [],
   "source": [
    "# Try to create atleast one plot from Dictionary data\n",
    "# Alternatively, try to feed some of the dictionary data into a pandas DF to create visuals. \n"
   ]
  },
  {
   "cell_type": "code",
   "execution_count": null,
   "metadata": {},
   "outputs": [],
   "source": [
    "#Try and fix this - Window does not show image. \n",
    "for i in range(100000):\n",
    "    cv2.namedWindow(\"Image\", cv2.WINDOW_NORMAL)\n",
    "    cv2.imshow(imagefile, img)\n",
    "cv2.destroyAllWindows()"
   ]
  },
  {
   "cell_type": "code",
   "execution_count": null,
   "metadata": {},
   "outputs": [],
   "source": [
    "# Try to plot, but then results are nested lists. \n",
    "\"\"\"\n",
    "import matplotlib.pyplot as plt\n",
    "imlens = []\n",
    "for i,_im in enumerate(result_list):\n",
    "    imlens.append(len(_im))\n",
    "    timefilteredForce = plt.plot(result_list)\n",
    "    timefilteredForce = pyplot.xlabel('points')\n",
    "    timefilteredForce = pyplot.ylabel('Force')\n",
    "\n",
    "plt.show()\n",
    "imlens\n",
    "\"\"\"\n"
   ]
  },
  {
   "cell_type": "code",
   "execution_count": null,
   "metadata": {},
   "outputs": [],
   "source": []
  }
 ],
 "metadata": {
  "kernelspec": {
   "display_name": "Python 3",
   "language": "python",
   "name": "python3"
  },
  "language_info": {
   "codemirror_mode": {
    "name": "ipython",
    "version": 3
   },
   "file_extension": ".py",
   "mimetype": "text/x-python",
   "name": "python",
   "nbconvert_exporter": "python",
   "pygments_lexer": "ipython3",
   "version": "3.6.5"
  }
 },
 "nbformat": 4,
 "nbformat_minor": 2
}
